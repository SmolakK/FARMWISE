{
 "cells": [
  {
   "cell_type": "markdown",
   "metadata": {},
   "source": [
    "# Hubeaupyutils in a nutshell"
   ]
  },
  {
   "cell_type": "code",
   "execution_count": 6,
   "metadata": {},
   "outputs": [],
   "source": [
    "# import lib\n",
    "import hubeaupyutils as hub\n",
    "import pandas as pd"
   ]
  },
  {
   "cell_type": "markdown",
   "metadata": {},
   "source": [
    "The package implement functions and class to help you request hubeau's API with any parameters.\n",
    "The generic class is ```HubeauUtils()``` wich you can use with several methods to explore the API, especially ```get_from_api()```\n",
    "Parameters to the API are then passed as a dictionniary. \n",
    "You can also get expected parameters, documentation for endpoint, etc.\n",
    "\n",
    "For more user friendly and easy-to-use function, wrappers are presented here."
   ]
  },
  {
   "cell_type": "code",
   "execution_count": 2,
   "metadata": {},
   "outputs": [
    {
     "name": "stdout",
     "output_type": "stream",
     "text": [
      "dict_keys(['piezometry', 'hydrometry', 'withdrawal', 'groundwater_qual', 'river_qual', 'river_temperature', 'river_drought'])\n"
     ]
    }
   ],
   "source": [
    "# check available apis\n",
    "print(hub.API.keys())\n",
    "\n",
    "# intiate one\n",
    "api = hub.init_api('piezometry')"
   ]
  },
  {
   "cell_type": "code",
   "execution_count": 3,
   "metadata": {},
   "outputs": [],
   "source": [
    "pz = [\n",
    "    '00613X0012/S1', \n",
    "    '00616X0023/S1', \n",
    "    '00618X0017/PC', \n",
    "    '00622X0001/S1', \n",
    "    '00625X0002/S1', \n",
    "    '00632X0023/P',\n",
    "]"
   ]
  },
  {
   "cell_type": "code",
   "execution_count": 4,
   "metadata": {},
   "outputs": [
    {
     "name": "stdout",
     "output_type": "stream",
     "text": [
      "        code_bss                                            urn_bss  \\\n",
      "0  00622X0001/S1  http://services.ades.eaufrance.fr/pointeau/006...   \n",
      "1  00625X0002/S1  http://services.ades.eaufrance.fr/pointeau/006...   \n",
      "2  00613X0012/S1  http://services.ades.eaufrance.fr/pointeau/006...   \n",
      "3  00616X0023/S1  http://services.ades.eaufrance.fr/pointeau/006...   \n",
      "4  00618X0017/PC  http://services.ades.eaufrance.fr/pointeau/006...   \n",
      "5   00632X0023/P  http://services.ades.eaufrance.fr/pointeau/006...   \n",
      "\n",
      "  date_debut_mesure date_fin_mesure code_commune_insee          nom_commune  \\\n",
      "0        1970-01-13      2009-01-27              80717       Saint-Sauflieu   \n",
      "1        1970-01-13      2024-09-12              80285            Essertaux   \n",
      "2        1970-09-11      2013-04-17              80365             Fricamps   \n",
      "3        1970-09-10      2017-04-17              80276  Équennes-Éramecourt   \n",
      "4        1997-09-30      2006-12-25              80079             Belleuse   \n",
      "5        1979-04-17      2024-09-12              80400         Guillaucourt   \n",
      "\n",
      "          x          y codes_bdlisa  \\\n",
      "0  2.258435  49.790702    [121BB01]   \n",
      "1  2.241315  49.738897    [121BB01]   \n",
      "2  1.997681  49.818648    [121BB01]   \n",
      "3  1.958955  49.723035    [121BB01]   \n",
      "4  2.126985  49.707904    [121BB01]   \n",
      "5  2.633615  49.842324    [121BB01]   \n",
      "\n",
      "                                         urns_bdlisa  ... altitude_station  \\\n",
      "0  [http://reseau.eaufrance.fr/geotraitements/bdl...  ...            101.0   \n",
      "1  [http://reseau.eaufrance.fr/geotraitements/bdl...  ...            145.0   \n",
      "2  [http://reseau.eaufrance.fr/geotraitements/bdl...  ...            160.0   \n",
      "3  [http://reseau.eaufrance.fr/geotraitements/bdl...  ...            123.0   \n",
      "4  [http://reseau.eaufrance.fr/geotraitements/bdl...  ...            165.0   \n",
      "5  [http://reseau.eaufrance.fr/geotraitements/bdl...  ...             89.0   \n",
      "\n",
      "  nb_mesures_piezo code_departement  nom_departement  \\\n",
      "0             1575               80            Somme   \n",
      "1             6675               80            Somme   \n",
      "2             2724               80            Somme   \n",
      "3             4106               80            Somme   \n",
      "4              284               80            Somme   \n",
      "5             7744               80            Somme   \n",
      "\n",
      "                          libelle_pe profondeur_investigation  \\\n",
      "0  PIEZOMETRE DE SAINT-SAUFLIEU - 80                    58.45   \n",
      "1       PIEZOMETRE DE ESSERTAUX - 80                    78.15   \n",
      "2        PIEZOMETRE DE FRICAMPS - 80                    70.80   \n",
      "3  PUITS DE EQUENNES-ERAMECOURT - 80                     9.80   \n",
      "4        PIEZOMETRE DE MONSURES - 80                   104.00   \n",
      "5    PIEZOMETRE DE GUILLAUCOURT - 80                    31.00   \n",
      "\n",
      "  codes_masse_eau_edl                        noms_masse_eau_edl  \\\n",
      "0             [AG312]  [Craie de la moyenne vallée de la Somme]   \n",
      "1             [AG312]  [Craie de la moyenne vallée de la Somme]   \n",
      "2             [AG311]     [Craie de la vallée de la Somme aval]   \n",
      "3             [AG312]  [Craie de la moyenne vallée de la Somme]   \n",
      "4             [AG312]  [Craie de la moyenne vallée de la Somme]   \n",
      "5             [AG312]  [Craie de la moyenne vallée de la Somme]   \n",
      "\n",
      "                                  urns_masse_eau_edl  \\\n",
      "0  [http://www.sandre.eaufrance.fr/geo/MasseDEauS...   \n",
      "1  [http://www.sandre.eaufrance.fr/geo/MasseDEauS...   \n",
      "2  [http://www.sandre.eaufrance.fr/geo/MasseDEauS...   \n",
      "3  [http://www.sandre.eaufrance.fr/geo/MasseDEauS...   \n",
      "4  [http://www.sandre.eaufrance.fr/geo/MasseDEauS...   \n",
      "5  [http://www.sandre.eaufrance.fr/geo/MasseDEauS...   \n",
      "\n",
      "                        date_maj  \n",
      "0  Fri Jun 28 07:31:38 CEST 2024  \n",
      "1  Fri Jun 28 07:31:38 CEST 2024  \n",
      "2  Fri Jun 28 07:31:38 CEST 2024  \n",
      "3   Wed Jan 24 19:22:29 CET 2024  \n",
      "4  Fri Jun 28 07:31:38 CEST 2024  \n",
      "5  Fri Jun 28 07:31:38 CEST 2024  \n",
      "\n",
      "[6 rows x 22 columns]\n"
     ]
    }
   ],
   "source": [
    "# --- get stations\n",
    "sta  = api.get_station(code_station=pz)\n",
    "print(sta)"
   ]
  },
  {
   "cell_type": "code",
   "execution_count": 7,
   "metadata": {},
   "outputs": [
    {
     "data": {
      "text/html": [
       "<div>\n",
       "<style scoped>\n",
       "    .dataframe tbody tr th:only-of-type {\n",
       "        vertical-align: middle;\n",
       "    }\n",
       "\n",
       "    .dataframe tbody tr th {\n",
       "        vertical-align: top;\n",
       "    }\n",
       "\n",
       "    .dataframe thead th {\n",
       "        text-align: right;\n",
       "    }\n",
       "</style>\n",
       "<table border=\"1\" class=\"dataframe\">\n",
       "  <thead>\n",
       "    <tr style=\"text-align: right;\">\n",
       "      <th></th>\n",
       "      <th></th>\n",
       "      <th>value</th>\n",
       "    </tr>\n",
       "    <tr>\n",
       "      <th>date</th>\n",
       "      <th>indice</th>\n",
       "      <th></th>\n",
       "    </tr>\n",
       "  </thead>\n",
       "  <tbody>\n",
       "    <tr>\n",
       "      <th>2024-09-13</th>\n",
       "      <th>00632X0023</th>\n",
       "      <td>63.440</td>\n",
       "    </tr>\n",
       "    <tr>\n",
       "      <th>2024-09-14</th>\n",
       "      <th>00632X0023</th>\n",
       "      <td>63.420</td>\n",
       "    </tr>\n",
       "    <tr>\n",
       "      <th>2024-09-15</th>\n",
       "      <th>00632X0023</th>\n",
       "      <td>63.420</td>\n",
       "    </tr>\n",
       "    <tr>\n",
       "      <th>2024-09-16</th>\n",
       "      <th>00632X0023</th>\n",
       "      <td>63.418</td>\n",
       "    </tr>\n",
       "    <tr>\n",
       "      <th>2024-09-17</th>\n",
       "      <th>00632X0023</th>\n",
       "      <td>63.407</td>\n",
       "    </tr>\n",
       "  </tbody>\n",
       "</table>\n",
       "</div>"
      ],
      "text/plain": [
       "                        value\n",
       "date       indice            \n",
       "2024-09-13 00632X0023  63.440\n",
       "2024-09-14 00632X0023  63.420\n",
       "2024-09-15 00632X0023  63.420\n",
       "2024-09-16 00632X0023  63.418\n",
       "2024-09-17 00632X0023  63.407"
      ]
     },
     "execution_count": 7,
     "metadata": {},
     "output_type": "execute_result"
    }
   ],
   "source": [
    "# --- get data\n",
    "res = []\n",
    "for code in pz:\n",
    "    df = api.get_data(code_station=code) # includes real-time (TR)\n",
    "    res.append(df)\n",
    "df = pd.concat(res)\n",
    "df.tail(5)"
   ]
  },
  {
   "cell_type": "markdown",
   "metadata": {},
   "source": [
    "Different parameters allow you to search for station in a zone ```bbox``` or add any parameter describe in the Hubeau API documentation."
   ]
  },
  {
   "cell_type": "markdown",
   "metadata": {},
   "source": [
    "## Exploring a more manual way"
   ]
  },
  {
   "cell_type": "code",
   "execution_count": null,
   "metadata": {},
   "outputs": [],
   "source": [
    "api = HubeauUtils('niveaux_nappes', 'chroniques')\n",
    "api.get_apis_documentation()\n",
    "api.get_operators()\n",
    "api.get_parameters()\n",
    "df = api.get_from_api(parameters={'code_bss': '01778X0015/F'}, verbose=True)\n",
    "df.head(5)"
   ]
  },
  {
   "cell_type": "code",
   "execution_count": null,
   "metadata": {},
   "outputs": [],
   "source": [
    "# if there is no wrapper yet:\n",
    "api = hub('qualite_nappes', 'analyses')\n",
    "\n",
    "print(api.all_endpoints)\n",
    "doc = api.get_apis_documentation()\n",
    "op  = api.get_operators()\n",
    "par = api.get_parameters()\n",
    "\n",
    "answ, answ_json, no3_df = api.get_from_api(\n",
    "    parameters={'size':10, 'bss_id':'BSS000XUUM', 'code_param':1340},\n",
    "    return_type='answ'\n",
    ")\n",
    "\n",
    "no3_df.columns\n",
    "no3_df.resultat.min()"
   ]
  }
 ],
 "metadata": {
  "kernelspec": {
   "display_name": "Python 3.9.15 ('base')",
   "language": "python",
   "name": "python3"
  },
  "language_info": {
   "codemirror_mode": {
    "name": "ipython",
    "version": 3
   },
   "file_extension": ".py",
   "mimetype": "text/x-python",
   "name": "python",
   "nbconvert_exporter": "python",
   "pygments_lexer": "ipython3",
   "version": "3.10.12"
  },
  "orig_nbformat": 4,
  "vscode": {
   "interpreter": {
    "hash": "19d1d53a962d236aa061289c2ac16dc8e6d9648c89fe79f459ae9a3493bc67b4"
   }
  }
 },
 "nbformat": 4,
 "nbformat_minor": 2
}
